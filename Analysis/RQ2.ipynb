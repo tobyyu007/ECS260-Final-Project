{
 "cells": [
  {
   "cell_type": "code",
   "execution_count": 1,
   "metadata": {},
   "outputs": [],
   "source": [
    "import pandas as pd\n",
    "from pymongo import MongoClient\n",
    "\n",
    "import matplotlib.pyplot as plt\n",
    "import seaborn as sns\n",
    "import pylab as py \n",
    "\n",
    "import statsmodels.api as sm\n",
    "from statsmodels.stats.outliers_influence import variance_inflation_factor\n",
    "from scipy.stats import boxcox"
   ]
  },
  {
   "cell_type": "markdown",
   "metadata": {},
   "source": [
    "Connect to MongoDB"
   ]
  },
  {
   "cell_type": "code",
   "execution_count": 2,
   "metadata": {},
   "outputs": [
    {
     "name": "stdout",
     "output_type": "stream",
     "text": [
      "['JavaScript_top500', 'Commit_Record', 'reposInfo', 'Documentation_Record', 'CodeQuality_Record', 'Timezone_Record', 'JavaScript_60']\n"
     ]
    }
   ],
   "source": [
    "client = MongoClient('localhost', 27017)\n",
    "db = client['GithubRepo']\n",
    "print(db.list_collection_names())\n",
    "CodeQuality_Record = db['CodeQuality_Record']"
   ]
  },
  {
   "cell_type": "code",
   "execution_count": 3,
   "metadata": {},
   "outputs": [
    {
     "name": "stdout",
     "output_type": "stream",
     "text": [
      "Index(['url', 'name', 'owner', 'popularity', 'popular_level', 'code_smell',\n",
      "       'ncloc', 'complexity', 'cognitive_complexity', 'bugCount', 'repo_age',\n",
      "       'repo_size', 'team_size', 'bug_pronesses', 'code_smell_per_loc',\n",
      "       'cognitive_complexity_per_loc'],\n",
      "      dtype='object')\n"
     ]
    }
   ],
   "source": [
    "df = pd.DataFrame(list(CodeQuality_Record.find()))\n",
    "\n",
    "# drop the _id column\n",
    "df = df.drop(['_id'], axis=1)\n",
    "\n",
    "print(df.columns)"
   ]
  },
  {
   "cell_type": "code",
   "execution_count": 4,
   "metadata": {},
   "outputs": [
    {
     "data": {
      "text/plain": [
       "(120, 16)"
      ]
     },
     "execution_count": 4,
     "metadata": {},
     "output_type": "execute_result"
    }
   ],
   "source": [
    "df.shape"
   ]
  },
  {
   "cell_type": "code",
   "execution_count": 5,
   "metadata": {},
   "outputs": [
    {
     "data": {
      "text/html": [
       "<div>\n",
       "<style scoped>\n",
       "    .dataframe tbody tr th:only-of-type {\n",
       "        vertical-align: middle;\n",
       "    }\n",
       "\n",
       "    .dataframe tbody tr th {\n",
       "        vertical-align: top;\n",
       "    }\n",
       "\n",
       "    .dataframe thead th {\n",
       "        text-align: right;\n",
       "    }\n",
       "</style>\n",
       "<table border=\"1\" class=\"dataframe\">\n",
       "  <thead>\n",
       "    <tr style=\"text-align: right;\">\n",
       "      <th></th>\n",
       "      <th>url</th>\n",
       "      <th>name</th>\n",
       "      <th>owner</th>\n",
       "      <th>popularity</th>\n",
       "      <th>popular_level</th>\n",
       "      <th>code_smell</th>\n",
       "      <th>ncloc</th>\n",
       "      <th>complexity</th>\n",
       "      <th>cognitive_complexity</th>\n",
       "      <th>bugCount</th>\n",
       "      <th>repo_age</th>\n",
       "      <th>repo_size</th>\n",
       "      <th>team_size</th>\n",
       "      <th>bug_pronesses</th>\n",
       "      <th>code_smell_per_loc</th>\n",
       "      <th>cognitive_complexity_per_loc</th>\n",
       "    </tr>\n",
       "  </thead>\n",
       "  <tbody>\n",
       "    <tr>\n",
       "      <th>0</th>\n",
       "      <td>https://github.com/emberjs/ember.js</td>\n",
       "      <td>ember.js</td>\n",
       "      <td>emberjs</td>\n",
       "      <td>105458627</td>\n",
       "      <td>high</td>\n",
       "      <td>1087</td>\n",
       "      <td>113719</td>\n",
       "      <td>18010</td>\n",
       "      <td>5003</td>\n",
       "      <td>3774</td>\n",
       "      <td>4635</td>\n",
       "      <td>96853</td>\n",
       "      <td>30</td>\n",
       "      <td>0.168347</td>\n",
       "      <td>0.009559</td>\n",
       "      <td>0.043994</td>\n",
       "    </tr>\n",
       "    <tr>\n",
       "      <th>1</th>\n",
       "      <td>https://github.com/CesiumGS/cesium</td>\n",
       "      <td>cesium</td>\n",
       "      <td>CesiumGS</td>\n",
       "      <td>36823334</td>\n",
       "      <td>high</td>\n",
       "      <td>17938</td>\n",
       "      <td>796360</td>\n",
       "      <td>104432</td>\n",
       "      <td>99577</td>\n",
       "      <td>5366</td>\n",
       "      <td>4353</td>\n",
       "      <td>804770</td>\n",
       "      <td>18</td>\n",
       "      <td>0.134358</td>\n",
       "      <td>0.022525</td>\n",
       "      <td>0.125040</td>\n",
       "    </tr>\n",
       "    <tr>\n",
       "      <th>2</th>\n",
       "      <td>https://github.com/bgoonz/BGOONZ_BLOG_2.0</td>\n",
       "      <td>BGOONZ_BLOG_2.0</td>\n",
       "      <td>bgoonz</td>\n",
       "      <td>9132557</td>\n",
       "      <td>high</td>\n",
       "      <td>4735</td>\n",
       "      <td>49865</td>\n",
       "      <td>9678</td>\n",
       "      <td>34624</td>\n",
       "      <td>80</td>\n",
       "      <td>995</td>\n",
       "      <td>2618011</td>\n",
       "      <td>3</td>\n",
       "      <td>0.005613</td>\n",
       "      <td>0.094956</td>\n",
       "      <td>0.694355</td>\n",
       "    </tr>\n",
       "    <tr>\n",
       "      <th>3</th>\n",
       "      <td>https://github.com/travis-ci/travis-web</td>\n",
       "      <td>travis-web</td>\n",
       "      <td>travis-ci</td>\n",
       "      <td>6569915</td>\n",
       "      <td>high</td>\n",
       "      <td>372</td>\n",
       "      <td>57719</td>\n",
       "      <td>6618</td>\n",
       "      <td>3262</td>\n",
       "      <td>1270</td>\n",
       "      <td>4246</td>\n",
       "      <td>148464</td>\n",
       "      <td>15</td>\n",
       "      <td>0.210265</td>\n",
       "      <td>0.006445</td>\n",
       "      <td>0.056515</td>\n",
       "    </tr>\n",
       "    <tr>\n",
       "      <th>4</th>\n",
       "      <td>https://github.com/nwjs/nw.js</td>\n",
       "      <td>nw.js</td>\n",
       "      <td>nwjs</td>\n",
       "      <td>746241</td>\n",
       "      <td>high</td>\n",
       "      <td>881</td>\n",
       "      <td>21117</td>\n",
       "      <td>2367</td>\n",
       "      <td>2145</td>\n",
       "      <td>1191</td>\n",
       "      <td>4411</td>\n",
       "      <td>287101</td>\n",
       "      <td>6</td>\n",
       "      <td>0.233438</td>\n",
       "      <td>0.041720</td>\n",
       "      <td>0.101577</td>\n",
       "    </tr>\n",
       "  </tbody>\n",
       "</table>\n",
       "</div>"
      ],
      "text/plain": [
       "                                         url             name      owner   \n",
       "0        https://github.com/emberjs/ember.js         ember.js    emberjs  \\\n",
       "1         https://github.com/CesiumGS/cesium           cesium   CesiumGS   \n",
       "2  https://github.com/bgoonz/BGOONZ_BLOG_2.0  BGOONZ_BLOG_2.0     bgoonz   \n",
       "3    https://github.com/travis-ci/travis-web       travis-web  travis-ci   \n",
       "4              https://github.com/nwjs/nw.js            nw.js       nwjs   \n",
       "\n",
       "   popularity popular_level  code_smell   ncloc  complexity   \n",
       "0   105458627          high        1087  113719       18010  \\\n",
       "1    36823334          high       17938  796360      104432   \n",
       "2     9132557          high        4735   49865        9678   \n",
       "3     6569915          high         372   57719        6618   \n",
       "4      746241          high         881   21117        2367   \n",
       "\n",
       "   cognitive_complexity  bugCount  repo_age  repo_size  team_size   \n",
       "0                  5003      3774      4635      96853         30  \\\n",
       "1                 99577      5366      4353     804770         18   \n",
       "2                 34624        80       995    2618011          3   \n",
       "3                  3262      1270      4246     148464         15   \n",
       "4                  2145      1191      4411     287101          6   \n",
       "\n",
       "   bug_pronesses  code_smell_per_loc  cognitive_complexity_per_loc  \n",
       "0       0.168347            0.009559                      0.043994  \n",
       "1       0.134358            0.022525                      0.125040  \n",
       "2       0.005613            0.094956                      0.694355  \n",
       "3       0.210265            0.006445                      0.056515  \n",
       "4       0.233438            0.041720                      0.101577  "
      ]
     },
     "execution_count": 5,
     "metadata": {},
     "output_type": "execute_result"
    }
   ],
   "source": [
    "df.head(5)"
   ]
  },
  {
   "cell_type": "markdown",
   "metadata": {},
   "source": [
    "Descriptive Analysis"
   ]
  },
  {
   "cell_type": "code",
   "execution_count": 6,
   "metadata": {},
   "outputs": [
    {
     "name": "stdout",
     "output_type": "stream",
     "text": [
      "(60, 16)\n",
      "(60, 16)\n"
     ]
    }
   ],
   "source": [
    "# seperate df into popular_df and unpopular_df\n",
    "# use popular_level to seperate\n",
    "js_popular_df = df[df['popular_level'] == 'high']\n",
    "js_unpopular_df = df[df['popular_level'] == 'low']\n",
    "\n",
    "print(js_popular_df.shape)\n",
    "print(js_unpopular_df.shape)"
   ]
  },
  {
   "cell_type": "code",
   "execution_count": 7,
   "metadata": {},
   "outputs": [
    {
     "data": {
      "text/plain": [
       "count    60.000000\n",
       "mean      0.125790\n",
       "std       0.109108\n",
       "min       0.003610\n",
       "25%       0.064176\n",
       "50%       0.115766\n",
       "75%       0.160485\n",
       "max       0.756659\n",
       "Name: bug_pronesses, dtype: float64"
      ]
     },
     "execution_count": 7,
     "metadata": {},
     "output_type": "execute_result"
    }
   ],
   "source": [
    "js_popular_df['bug_pronesses'].describe()"
   ]
  },
  {
   "cell_type": "code",
   "execution_count": 8,
   "metadata": {},
   "outputs": [
    {
     "data": {
      "text/plain": [
       "count    60.000000\n",
       "mean      0.109887\n",
       "std       0.136930\n",
       "min       0.000000\n",
       "25%       0.030080\n",
       "50%       0.070846\n",
       "75%       0.124856\n",
       "max       0.641071\n",
       "Name: bug_pronesses, dtype: float64"
      ]
     },
     "execution_count": 8,
     "metadata": {},
     "output_type": "execute_result"
    }
   ],
   "source": [
    "js_unpopular_df['bug_pronesses'].describe()"
   ]
  },
  {
   "cell_type": "code",
   "execution_count": 9,
   "metadata": {},
   "outputs": [
    {
     "data": {
      "text/plain": [
       "count    60.000000\n",
       "mean      0.041521\n",
       "std       0.038052\n",
       "min       0.000000\n",
       "25%       0.011001\n",
       "50%       0.031177\n",
       "75%       0.061064\n",
       "max       0.198570\n",
       "Name: code_smell_per_loc, dtype: float64"
      ]
     },
     "execution_count": 9,
     "metadata": {},
     "output_type": "execute_result"
    }
   ],
   "source": [
    "js_popular_df['code_smell_per_loc'].describe()"
   ]
  },
  {
   "cell_type": "code",
   "execution_count": 10,
   "metadata": {},
   "outputs": [
    {
     "data": {
      "text/plain": [
       "count    60.000000\n",
       "mean      0.036363\n",
       "std       0.040643\n",
       "min       0.000000\n",
       "25%       0.008766\n",
       "50%       0.023626\n",
       "75%       0.044362\n",
       "max       0.177033\n",
       "Name: code_smell_per_loc, dtype: float64"
      ]
     },
     "execution_count": 10,
     "metadata": {},
     "output_type": "execute_result"
    }
   ],
   "source": [
    "js_unpopular_df['code_smell_per_loc'].describe()"
   ]
  },
  {
   "cell_type": "code",
   "execution_count": 11,
   "metadata": {},
   "outputs": [
    {
     "data": {
      "text/plain": [
       "count    60.000000\n",
       "mean      0.108578\n",
       "std       0.161858\n",
       "min       0.000000\n",
       "25%       0.037545\n",
       "50%       0.057721\n",
       "75%       0.099913\n",
       "max       0.944654\n",
       "Name: cognitive_complexity_per_loc, dtype: float64"
      ]
     },
     "execution_count": 11,
     "metadata": {},
     "output_type": "execute_result"
    }
   ],
   "source": [
    "js_popular_df['cognitive_complexity_per_loc'].describe()"
   ]
  },
  {
   "cell_type": "code",
   "execution_count": 12,
   "metadata": {},
   "outputs": [
    {
     "data": {
      "text/plain": [
       "count    60.000000\n",
       "mean      0.062554\n",
       "std       0.083318\n",
       "min       0.000000\n",
       "25%       0.017409\n",
       "50%       0.032230\n",
       "75%       0.055835\n",
       "max       0.402597\n",
       "Name: cognitive_complexity_per_loc, dtype: float64"
      ]
     },
     "execution_count": 12,
     "metadata": {},
     "output_type": "execute_result"
    }
   ],
   "source": [
    "js_unpopular_df['cognitive_complexity_per_loc'].describe()"
   ]
  },
  {
   "cell_type": "code",
   "execution_count": 13,
   "metadata": {},
   "outputs": [
    {
     "data": {
      "image/png": "[encoded data removed]",
      "text/plain": [
       "<Figure size 600x800 with 3 Axes>"
      ]
     },
     "metadata": {},
     "output_type": "display_data"
    }
   ],
   "source": [
    "# Create a figure with six subplots, arranged in 4 rows and 1 columns\n",
    "fig, axes = plt.subplots(3, 1, figsize=(6, 8))\n",
    "\n",
    "# Define column names and titles\n",
    "columns = ['bug_pronesses', 'code_smell_per_loc', 'cognitive_complexity_per_loc']\n",
    "titles = ['bug_pronesses', 'code_smell_per_loc', 'cognitive_complexity_per_loc']\n",
    "\n",
    "# Loop through each metric to plot\n",
    "for i, (column, title) in enumerate(zip(columns, titles)):\n",
    "    # Combine data from popular and unpopular dataframes for plotting\n",
    "    data_to_plot = [js_popular_df[column], js_unpopular_df[column]]\n",
    "    \n",
    "    # Plot boxplot for popular and unpopular dataframes without outliers\n",
    "    axes[i].boxplot(data_to_plot, showfliers=False)\n",
    "    axes[i].set_title(title)\n",
    "    axes[i].set_xticklabels(['Popular', 'Unpopular'])\n",
    "\n",
    "# Adjust layout and display the plot\n",
    "plt.tight_layout()\n",
    "plt.show()"
   ]
  },
  {
   "cell_type": "code",
   "execution_count": 14,
   "metadata": {},
   "outputs": [
    {
     "data": {
      "text/plain": [
       "count    120.000000\n",
       "mean       0.117839\n",
       "std        0.123540\n",
       "min        0.000000\n",
       "25%        0.048663\n",
       "50%        0.090213\n",
       "75%        0.149680\n",
       "max        0.756659\n",
       "Name: bug_pronesses, dtype: float64"
      ]
     },
     "execution_count": 14,
     "metadata": {},
     "output_type": "execute_result"
    }
   ],
   "source": [
    "df['bug_pronesses'].describe()"
   ]
  },
  {
   "cell_type": "markdown",
   "metadata": {},
   "source": [
    "Collinearity"
   ]
  },
  {
   "cell_type": "code",
   "execution_count": 15,
   "metadata": {},
   "outputs": [
    {
     "data": {
      "image/png": "[encoded data removed]",
      "text/plain": [
       "<Figure size 300x300 with 2 Axes>"
      ]
     },
     "metadata": {},
     "output_type": "display_data"
    }
   ],
   "source": [
    "df_corr = df[['bug_pronesses', 'code_smell_per_loc', 'cognitive_complexity_per_loc']].corr(method='spearman')\n",
    "\n",
    "# Create a figure without subplots\n",
    "fig, ax = plt.subplots(1, 1, figsize=(3, 3))\n",
    "\n",
    "# Use seaborn's heatmap function to plot the correlation matrix\n",
    "sns.heatmap(df_corr, annot=True, fmt=\".2f\", cmap='coolwarm', square=False, ax=ax, annot_kws={\"size\": 6})\n",
    "\n",
    "# Set the title of the heatmap\n",
    "custom_labels = ['Bug Pronesses', 'Code Smell', 'Cognitive Complexity']\n",
    "ax.set_title('Correlation Matrix')\n",
    "ax.set_xticklabels(custom_labels, rotation=90, fontsize=6)\n",
    "ax.set_yticklabels(custom_labels, rotation=0, fontsize=6)\n",
    "\n",
    "cbar = ax.collections[0].colorbar\n",
    "cbar.ax.tick_params(labelsize=6)\n",
    "\n",
    "# Adjust layout and display the plot\n",
    "plt.tight_layout()\n",
    "plt.show()"
   ]
  },
  {
   "cell_type": "code",
   "execution_count": 16,
   "metadata": {},
   "outputs": [
    {
     "data": {
      "text/html": [
       "<div>\n",
       "<style scoped>\n",
       "    .dataframe tbody tr th:only-of-type {\n",
       "        vertical-align: middle;\n",
       "    }\n",
       "\n",
       "    .dataframe tbody tr th {\n",
       "        vertical-align: top;\n",
       "    }\n",
       "\n",
       "    .dataframe thead th {\n",
       "        text-align: right;\n",
       "    }\n",
       "</style>\n",
       "<table border=\"1\" class=\"dataframe\">\n",
       "  <thead>\n",
       "    <tr style=\"text-align: right;\">\n",
       "      <th></th>\n",
       "      <th>feature</th>\n",
       "      <th>VIF</th>\n",
       "    </tr>\n",
       "  </thead>\n",
       "  <tbody>\n",
       "    <tr>\n",
       "      <th>0</th>\n",
       "      <td>bug_pronesses</td>\n",
       "      <td>1.408414</td>\n",
       "    </tr>\n",
       "    <tr>\n",
       "      <th>1</th>\n",
       "      <td>code_smell_per_loc</td>\n",
       "      <td>1.972986</td>\n",
       "    </tr>\n",
       "    <tr>\n",
       "      <th>2</th>\n",
       "      <td>cognitive_complexity_per_loc</td>\n",
       "      <td>1.697135</td>\n",
       "    </tr>\n",
       "  </tbody>\n",
       "</table>\n",
       "</div>"
      ],
      "text/plain": [
       "                        feature       VIF\n",
       "0                 bug_pronesses  1.408414\n",
       "1            code_smell_per_loc  1.972986\n",
       "2  cognitive_complexity_per_loc  1.697135"
      ]
     },
     "execution_count": 16,
     "metadata": {},
     "output_type": "execute_result"
    }
   ],
   "source": [
    "X = df[['bug_pronesses', 'code_smell_per_loc', 'cognitive_complexity_per_loc']]\n",
    "\n",
    "# Calculating VIF for each variable\n",
    "vif_data = pd.DataFrame()\n",
    "vif_data[\"feature\"] = X.columns\n",
    "vif_data[\"VIF\"] = [variance_inflation_factor(X.values, i) for i in range(X.shape[1])]\n",
    "\n",
    "vif_data"
   ]
  },
  {
   "cell_type": "markdown",
   "metadata": {},
   "source": [
    "Multivariate Linear Model"
   ]
  },
  {
   "cell_type": "code",
   "execution_count": 17,
   "metadata": {},
   "outputs": [],
   "source": [
    "df['repo_age'], _ = boxcox(df['repo_age'])\n",
    "df['repo_size'], _ = boxcox(df['repo_size'])\n",
    "df['team_size'], _ = boxcox(df['team_size'])"
   ]
  },
  {
   "cell_type": "markdown",
   "metadata": {},
   "source": [
    "GLM - Negative Binomial"
   ]
  },
  {
   "cell_type": "code",
   "execution_count": 18,
   "metadata": {},
   "outputs": [
    {
     "name": "stdout",
     "output_type": "stream",
     "text": [
      "                 Generalized Linear Model Regression Results                  \n",
      "==============================================================================\n",
      "Dep. Variable:             popularity   No. Observations:                  120\n",
      "Model:                            GLM   Df Residuals:                      116\n",
      "Model Family:        NegativeBinomial   Df Model:                            3\n",
      "Link Function:                    Log   Scale:                          1.0000\n",
      "Method:                          IRLS   Log-Likelihood:                -1696.6\n",
      "Date:                Fri, 15 Mar 2024   Deviance:                       1213.2\n",
      "Time:                        13:35:47   Pearson chi2:                 3.24e+03\n",
      "No. Iterations:                   100   Pseudo R-squ. (CS):             0.8837\n",
      "Covariance Type:            nonrobust                                         \n",
      "================================================================================================\n",
      "                                   coef    std err          z      P>|z|      [0.025      0.975]\n",
      "------------------------------------------------------------------------------------------------\n",
      "const                           10.4138      0.154     67.831      0.000      10.113      10.715\n",
      "bug_pronesses                   23.4011      0.745     31.424      0.000      21.941      24.861\n",
      "code_smell_per_loc             -23.2851      2.575     -9.042      0.000     -28.332     -18.238\n",
      "cognitive_complexity_per_loc    10.2112      0.775     13.180      0.000       8.693      11.730\n",
      "================================================================================================\n"
     ]
    },
    {
     "name": "stderr",
     "output_type": "stream",
     "text": [
      "/opt/homebrew/lib/python3.11/site-packages/statsmodels/genmod/families/family.py:1367: ValueWarning: Negative binomial dispersion parameter alpha not set. Using default value alpha=1.0.\n",
      "  warnings.warn(\"Negative binomial dispersion parameter alpha not \"\n"
     ]
    }
   ],
   "source": [
    "# Define the independent variables and add a constant term (for the intercept)\n",
    "X = df[['bug_pronesses', 'code_smell_per_loc', 'cognitive_complexity_per_loc']]\n",
    "X = sm.add_constant(X)\n",
    "\n",
    "# Define the dependent variable\n",
    "y = df['popularity']\n",
    "\n",
    "# Fit the Negative Binomial Regression model\n",
    "model = sm.GLM(y, X, family=sm.families.NegativeBinomial()).fit()\n",
    "\n",
    "print(model.summary())"
   ]
  },
  {
   "cell_type": "markdown",
   "metadata": {},
   "source": [
    "Let Developer Size, Project Age, and Repo Size as confounding variable"
   ]
  },
  {
   "cell_type": "code",
   "execution_count": 19,
   "metadata": {},
   "outputs": [
    {
     "name": "stdout",
     "output_type": "stream",
     "text": [
      "                 Generalized Linear Model Regression Results                  \n",
      "==============================================================================\n",
      "Dep. Variable:             popularity   No. Observations:                  120\n",
      "Model:                            GLM   Df Residuals:                      113\n",
      "Model Family:        NegativeBinomial   Df Model:                            6\n",
      "Link Function:                    Log   Scale:                          1.0000\n",
      "Method:                          IRLS   Log-Likelihood:                -1408.5\n",
      "Date:                Fri, 15 Mar 2024   Deviance:                       637.03\n",
      "Time:                        13:35:47   Pearson chi2:                 1.11e+03\n",
      "No. Iterations:                   100   Pseudo R-squ. (CS):             0.9990\n",
      "Covariance Type:            nonrobust                                         \n",
      "================================================================================================\n",
      "                                   coef    std err          z      P>|z|      [0.025      0.975]\n",
      "------------------------------------------------------------------------------------------------\n",
      "const                           -3.5177      0.678     -5.188      0.000      -4.847      -2.189\n",
      "bug_pronesses                    0.1563      0.764      0.205      0.838      -1.341       1.654\n",
      "code_smell_per_loc              -5.4408      2.599     -2.094      0.036     -10.534      -0.348\n",
      "cognitive_complexity_per_loc     3.5242      0.807      4.366      0.000       1.942       5.106\n",
      "repo_age                         0.4291      0.031     13.968      0.000       0.369       0.489\n",
      "repo_size                        0.8664      0.066     13.156      0.000       0.737       0.996\n",
      "team_size                        0.5606      0.148      3.786      0.000       0.270       0.851\n",
      "================================================================================================\n"
     ]
    },
    {
     "name": "stderr",
     "output_type": "stream",
     "text": [
      "/opt/homebrew/lib/python3.11/site-packages/statsmodels/genmod/families/family.py:1367: ValueWarning: Negative binomial dispersion parameter alpha not set. Using default value alpha=1.0.\n",
      "  warnings.warn(\"Negative binomial dispersion parameter alpha not \"\n"
     ]
    }
   ],
   "source": [
    "X = df[['bug_pronesses', 'code_smell_per_loc', 'cognitive_complexity_per_loc', 'repo_age', 'repo_size', 'team_size']]\n",
    "X = sm.add_constant(X)\n",
    "\n",
    "y = df['popularity']\n",
    "\n",
    "# Fit the Negative Binomial Regression model with the confounder\n",
    "model = sm.GLM(y, X, family=sm.families.NegativeBinomial()).fit()\n",
    "\n",
    "print(model.summary())"
   ]
  }
 ],
 "metadata": {
  "kernelspec": {
   "display_name": "Python 3",
   "language": "python",
   "name": "python3"
  },
  "language_info": {
   "codemirror_mode": {
    "name": "ipython",
    "version": 3
   },
   "file_extension": ".py",
   "mimetype": "text/x-python",
   "name": "python",
   "nbconvert_exporter": "python",
   "pygments_lexer": "ipython3",
   "version": "3.11.7"
  }
 },
 "nbformat": 4,
 "nbformat_minor": 2
}
